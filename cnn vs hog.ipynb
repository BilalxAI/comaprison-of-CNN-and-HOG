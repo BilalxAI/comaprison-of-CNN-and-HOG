{
 "cells": [
  {
   "cell_type": "markdown",
   "metadata": {
    "id": "KWKcmf8evatg"
   },
   "source": [
    "In this tutorial consider the CIFAR dataset. Use the initial code given below and perform the classification using CNN and HoG based features."
   ]
  },
  {
   "cell_type": "markdown",
   "metadata": {
    "id": "lDmq-B50vatm"
   },
   "source": []
  },
  {
   "cell_type": "code",
   "execution_count": null,
   "metadata": {
    "colab": {
     "base_uri": "https://localhost:8080/"
    },
    "id": "J6dS0Pcjvatp",
    "outputId": "f8322b42-6f21-490f-e03b-695438d94d7b"
   },
   "outputs": [
    {
     "name": "stdout",
     "output_type": "stream",
     "text": [
      "Looking in indexes: https://pypi.org/simple, https://us-python.pkg.dev/colab-wheels/public/simple/\n",
      "Requirement already satisfied: openml in /usr/local/lib/python3.10/dist-packages (0.13.1)\n",
      "Requirement already satisfied: liac-arff>=2.4.0 in /usr/local/lib/python3.10/dist-packages (from openml) (2.5.0)\n",
      "Requirement already satisfied: xmltodict in /usr/local/lib/python3.10/dist-packages (from openml) (0.13.0)\n",
      "Requirement already satisfied: requests in /usr/local/lib/python3.10/dist-packages (from openml) (2.27.1)\n",
      "Requirement already satisfied: scikit-learn>=0.18 in /usr/local/lib/python3.10/dist-packages (from openml) (1.2.2)\n",
      "Requirement already satisfied: python-dateutil in /usr/local/lib/python3.10/dist-packages (from openml) (2.8.2)\n",
      "Requirement already satisfied: pandas>=1.0.0 in /usr/local/lib/python3.10/dist-packages (from openml) (1.5.3)\n",
      "Requirement already satisfied: scipy>=0.13.3 in /usr/local/lib/python3.10/dist-packages (from openml) (1.10.1)\n",
      "Requirement already satisfied: numpy>=1.6.2 in /usr/local/lib/python3.10/dist-packages (from openml) (1.22.4)\n",
      "Requirement already satisfied: minio in /usr/local/lib/python3.10/dist-packages (from openml) (7.1.15)\n",
      "Requirement already satisfied: pyarrow in /usr/local/lib/python3.10/dist-packages (from openml) (9.0.0)\n",
      "Requirement already satisfied: pytz>=2020.1 in /usr/local/lib/python3.10/dist-packages (from pandas>=1.0.0->openml) (2022.7.1)\n",
      "Requirement already satisfied: six>=1.5 in /usr/local/lib/python3.10/dist-packages (from python-dateutil->openml) (1.16.0)\n",
      "Requirement already satisfied: joblib>=1.1.1 in /usr/local/lib/python3.10/dist-packages (from scikit-learn>=0.18->openml) (1.2.0)\n",
      "Requirement already satisfied: threadpoolctl>=2.0.0 in /usr/local/lib/python3.10/dist-packages (from scikit-learn>=0.18->openml) (3.1.0)\n",
      "Requirement already satisfied: certifi in /usr/local/lib/python3.10/dist-packages (from minio->openml) (2022.12.7)\n",
      "Requirement already satisfied: urllib3 in /usr/local/lib/python3.10/dist-packages (from minio->openml) (1.26.15)\n",
      "Requirement already satisfied: charset-normalizer~=2.0.0 in /usr/local/lib/python3.10/dist-packages (from requests->openml) (2.0.12)\n",
      "Requirement already satisfied: idna<4,>=2.5 in /usr/local/lib/python3.10/dist-packages (from requests->openml) (3.4)\n"
     ]
    }
   ],
   "source": [
    "# Auto-setup when running on Google Colab\n",
    "if 'google.colab' in str(get_ipython()):\n",
    "    !pip install openml\n",
    "\n",
    "# General imports\n",
    "%matplotlib inline\n",
    "import numpy as np\n",
    "import pandas as pd\n",
    "import matplotlib.pyplot as plt\n",
    "import openml as oml\n",
    "import tensorflow as tf"
   ]
  },
  {
   "cell_type": "code",
   "execution_count": null,
   "metadata": {
    "id": "fgFXyOrkvs57"
   },
   "outputs": [],
   "source": [
    "# Uncomment the next line if you run on Colab\n",
    "#!pip install --quiet openml"
   ]
  },
  {
   "cell_type": "code",
   "execution_count": null,
   "metadata": {
    "id": "RuFLiSvWwUPE"
   },
   "outputs": [],
   "source": [
    "%matplotlib inline\n",
    "import openml as oml\n",
    "import matplotlib.pyplot as plt"
   ]
  },
  {
   "cell_type": "code",
   "execution_count": null,
   "metadata": {
    "id": "LAXN17rYvat6"
   },
   "outputs": [],
   "source": [
    "# Download CIFAR data. Takes a while the first time.\n",
    "# This version returns 3x32x32 resolution images.\n",
    "# If you feel like it, repeat the exercises with the 96x96x3 resolution version by using ID 41103\n",
    "cifar = oml.datasets.get_dataset(40926)\n",
    "X, y, _, _ = cifar.get_data(target=cifar.default_target_attribute, dataset_format='array');\n",
    "cifar_classes = {0: \"airplane\", 1: \"automobile\", 2: \"bird\", 3: \"cat\", 4: \"deer\",\n",
    "                 5: \"dog\", 6: \"frog\", 7: \"horse\", 8: \"ship\", 9: \"truck\"}"
   ]
  },
  {
   "cell_type": "code",
   "execution_count": null,
   "metadata": {
    "id": "Cr2I9xdO-Y26"
   },
   "outputs": [],
   "source": [
    "# The dataset (40926) is in a weird 3x32x32 format, we need to reshape and transpose\n",
    "Xr = X.reshape((len(X),3,32,32)).transpose(0,2,3,1)"
   ]
  },
  {
   "cell_type": "code",
   "execution_count": null,
   "metadata": {
    "colab": {
     "base_uri": "https://localhost:8080/"
    },
    "id": "cKGd2JCbNk4w",
    "outputId": "3cef3602-c370-4daf-8867-6d8005cf70ca"
   },
   "outputs": [
    {
     "data": {
      "text/plain": [
       "array([[[[ 59.,  62.,  63.],\n",
       "         [ 43.,  46.,  45.],\n",
       "         [ 50.,  48.,  43.],\n",
       "         ...,\n",
       "         [158., 132., 108.],\n",
       "         [152., 125., 102.],\n",
       "         [148., 124., 103.]],\n",
       "\n",
       "        [[ 16.,  20.,  20.],\n",
       "         [  0.,   0.,   0.],\n",
       "         [ 18.,   8.,   0.],\n",
       "         ...,\n",
       "         [123.,  88.,  55.],\n",
       "         [119.,  83.,  50.],\n",
       "         [122.,  87.,  57.]],\n",
       "\n",
       "        [[ 25.,  24.,  21.],\n",
       "         [ 16.,   7.,   0.],\n",
       "         [ 49.,  27.,   8.],\n",
       "         ...,\n",
       "         [118.,  84.,  50.],\n",
       "         [120.,  84.,  50.],\n",
       "         [109.,  73.,  42.]],\n",
       "\n",
       "        ...,\n",
       "\n",
       "        [[208., 170.,  96.],\n",
       "         [201., 153.,  34.],\n",
       "         [198., 161.,  26.],\n",
       "         ...,\n",
       "         [160., 133.,  70.],\n",
       "         [ 56.,  31.,   7.],\n",
       "         [ 53.,  34.,  20.]],\n",
       "\n",
       "        [[180., 139.,  96.],\n",
       "         [173., 123.,  42.],\n",
       "         [186., 144.,  30.],\n",
       "         ...,\n",
       "         [184., 148.,  94.],\n",
       "         [ 97.,  62.,  34.],\n",
       "         [ 83.,  53.,  34.]],\n",
       "\n",
       "        [[177., 144., 116.],\n",
       "         [168., 129.,  94.],\n",
       "         [179., 142.,  87.],\n",
       "         ...,\n",
       "         [216., 184., 140.],\n",
       "         [151., 118.,  84.],\n",
       "         [123.,  92.,  72.]]],\n",
       "\n",
       "\n",
       "       [[[154., 177., 187.],\n",
       "         [126., 137., 136.],\n",
       "         [105., 104.,  95.],\n",
       "         ...,\n",
       "         [ 91.,  95.,  71.],\n",
       "         [ 87.,  90.,  71.],\n",
       "         [ 79.,  81.,  70.]],\n",
       "\n",
       "        [[140., 160., 169.],\n",
       "         [145., 153., 154.],\n",
       "         [125., 125., 118.],\n",
       "         ...,\n",
       "         [ 96.,  99.,  78.],\n",
       "         [ 77.,  80.,  62.],\n",
       "         [ 71.,  73.,  61.]],\n",
       "\n",
       "        [[140., 155., 164.],\n",
       "         [139., 146., 149.],\n",
       "         [115., 115., 112.],\n",
       "         ...,\n",
       "         [ 79.,  82.,  64.],\n",
       "         [ 68.,  70.,  55.],\n",
       "         [ 67.,  69.,  55.]],\n",
       "\n",
       "        ...,\n",
       "\n",
       "        [[175., 167., 166.],\n",
       "         [156., 154., 160.],\n",
       "         [154., 160., 170.],\n",
       "         ...,\n",
       "         [ 42.,  34.,  36.],\n",
       "         [ 61.,  53.,  57.],\n",
       "         [ 93.,  83.,  91.]],\n",
       "\n",
       "        [[165., 154., 128.],\n",
       "         [156., 152., 130.],\n",
       "         [159., 161., 142.],\n",
       "         ...,\n",
       "         [103.,  93.,  96.],\n",
       "         [123., 114., 120.],\n",
       "         [131., 121., 131.]],\n",
       "\n",
       "        [[163., 148., 120.],\n",
       "         [158., 148., 122.],\n",
       "         [163., 156., 133.],\n",
       "         ...,\n",
       "         [143., 133., 139.],\n",
       "         [143., 134., 142.],\n",
       "         [143., 133., 144.]]],\n",
       "\n",
       "\n",
       "       [[[255., 255., 255.],\n",
       "         [253., 253., 253.],\n",
       "         [253., 253., 253.],\n",
       "         ...,\n",
       "         [253., 253., 253.],\n",
       "         [253., 253., 253.],\n",
       "         [253., 253., 253.]],\n",
       "\n",
       "        [[255., 255., 255.],\n",
       "         [255., 255., 255.],\n",
       "         [255., 255., 255.],\n",
       "         ...,\n",
       "         [255., 255., 255.],\n",
       "         [255., 255., 255.],\n",
       "         [255., 255., 255.]],\n",
       "\n",
       "        [[255., 255., 255.],\n",
       "         [254., 254., 254.],\n",
       "         [254., 254., 254.],\n",
       "         ...,\n",
       "         [254., 254., 254.],\n",
       "         [254., 254., 254.],\n",
       "         [254., 254., 254.]],\n",
       "\n",
       "        ...,\n",
       "\n",
       "        [[113., 120., 112.],\n",
       "         [111., 118., 111.],\n",
       "         [105., 112., 106.],\n",
       "         ...,\n",
       "         [ 72.,  81.,  80.],\n",
       "         [ 72.,  80.,  79.],\n",
       "         [ 72.,  80.,  79.]],\n",
       "\n",
       "        [[111., 118., 110.],\n",
       "         [104., 111., 104.],\n",
       "         [ 99., 106.,  98.],\n",
       "         ...,\n",
       "         [ 68.,  75.,  73.],\n",
       "         [ 70.,  76.,  75.],\n",
       "         [ 78.,  84.,  82.]],\n",
       "\n",
       "        [[106., 113., 105.],\n",
       "         [ 99., 106.,  98.],\n",
       "         [ 95., 102.,  94.],\n",
       "         ...,\n",
       "         [ 78.,  85.,  83.],\n",
       "         [ 79.,  85.,  83.],\n",
       "         [ 80.,  86.,  84.]]],\n",
       "\n",
       "\n",
       "       ...,\n",
       "\n",
       "\n",
       "       [[[ 20.,  15.,  12.],\n",
       "         [ 19.,  14.,  11.],\n",
       "         [ 15.,  14.,  11.],\n",
       "         ...,\n",
       "         [ 10.,   9.,   7.],\n",
       "         [ 12.,  11.,   9.],\n",
       "         [ 13.,  12.,  10.]],\n",
       "\n",
       "        [[ 21.,  16.,  13.],\n",
       "         [ 20.,  16.,  13.],\n",
       "         [ 18.,  17.,  12.],\n",
       "         ...,\n",
       "         [ 10.,   9.,   7.],\n",
       "         [ 10.,   9.,   7.],\n",
       "         [ 12.,  11.,   9.]],\n",
       "\n",
       "        [[ 21.,  16.,  13.],\n",
       "         [ 21.,  17.,  12.],\n",
       "         [ 20.,  18.,  11.],\n",
       "         ...,\n",
       "         [ 12.,  11.,   9.],\n",
       "         [ 12.,  11.,   9.],\n",
       "         [ 13.,  12.,  10.]],\n",
       "\n",
       "        ...,\n",
       "\n",
       "        [[ 33.,  25.,  13.],\n",
       "         [ 34.,  26.,  15.],\n",
       "         [ 34.,  26.,  15.],\n",
       "         ...,\n",
       "         [ 28.,  25.,  52.],\n",
       "         [ 29.,  25.,  58.],\n",
       "         [ 23.,  20.,  42.]],\n",
       "\n",
       "        [[ 33.,  25.,  14.],\n",
       "         [ 34.,  26.,  15.],\n",
       "         [ 34.,  26.,  15.],\n",
       "         ...,\n",
       "         [ 27.,  24.,  52.],\n",
       "         [ 27.,  24.,  56.],\n",
       "         [ 25.,  22.,  47.]],\n",
       "\n",
       "        [[ 31.,  23.,  12.],\n",
       "         [ 32.,  24.,  13.],\n",
       "         [ 33.,  25.,  14.],\n",
       "         ...,\n",
       "         [ 24.,  23.,  50.],\n",
       "         [ 26.,  23.,  53.],\n",
       "         [ 25.,  20.,  47.]]],\n",
       "\n",
       "\n",
       "       [[[ 25.,  40.,  12.],\n",
       "         [ 15.,  36.,   3.],\n",
       "         [ 23.,  41.,  18.],\n",
       "         ...,\n",
       "         [ 61.,  82.,  78.],\n",
       "         [ 92., 113., 112.],\n",
       "         [ 75.,  89.,  92.]],\n",
       "\n",
       "        [[ 12.,  25.,   6.],\n",
       "         [ 20.,  37.,   7.],\n",
       "         [ 24.,  36.,  15.],\n",
       "         ...,\n",
       "         [115., 134., 138.],\n",
       "         [149., 168., 177.],\n",
       "         [104., 117., 131.]],\n",
       "\n",
       "        [[ 12.,  25.,  11.],\n",
       "         [ 15.,  29.,   6.],\n",
       "         [ 34.,  40.,  24.],\n",
       "         ...,\n",
       "         [154., 172., 182.],\n",
       "         [157., 175., 192.],\n",
       "         [116., 129., 151.]],\n",
       "\n",
       "        ...,\n",
       "\n",
       "        [[100., 129.,  81.],\n",
       "         [103., 132.,  84.],\n",
       "         [104., 134.,  86.],\n",
       "         ...,\n",
       "         [ 97., 128.,  84.],\n",
       "         [ 98., 126.,  84.],\n",
       "         [ 91., 121.,  79.]],\n",
       "\n",
       "        [[103., 132.,  83.],\n",
       "         [104., 131.,  83.],\n",
       "         [107., 135.,  87.],\n",
       "         ...,\n",
       "         [101., 132.,  87.],\n",
       "         [ 99., 127.,  84.],\n",
       "         [ 92., 121.,  79.]],\n",
       "\n",
       "        [[ 95., 126.,  78.],\n",
       "         [ 95., 123.,  76.],\n",
       "         [101., 128.,  81.],\n",
       "         ...,\n",
       "         [ 93., 124.,  80.],\n",
       "         [ 95., 123.,  81.],\n",
       "         [ 92., 120.,  80.]]],\n",
       "\n",
       "\n",
       "       [[[ 73.,  78.,  75.],\n",
       "         [ 98., 103., 113.],\n",
       "         [ 99., 106., 114.],\n",
       "         ...,\n",
       "         [135., 150., 152.],\n",
       "         [135., 149., 154.],\n",
       "         [203., 215., 223.]],\n",
       "\n",
       "        [[ 69.,  73.,  70.],\n",
       "         [ 84.,  89.,  97.],\n",
       "         [ 68.,  75.,  81.],\n",
       "         ...,\n",
       "         [ 85.,  95.,  89.],\n",
       "         [ 71.,  82.,  80.],\n",
       "         [120., 133., 135.]],\n",
       "\n",
       "        [[ 69.,  73.,  70.],\n",
       "         [ 90.,  95., 100.],\n",
       "         [ 62.,  71.,  74.],\n",
       "         ...,\n",
       "         [ 74.,  81.,  70.],\n",
       "         [ 53.,  62.,  54.],\n",
       "         [ 62.,  74.,  69.]],\n",
       "\n",
       "        ...,\n",
       "\n",
       "        [[123., 128.,  96.],\n",
       "         [132., 132., 102.],\n",
       "         [129., 128., 100.],\n",
       "         ...,\n",
       "         [108., 107.,  88.],\n",
       "         [ 62.,  60.,  55.],\n",
       "         [ 27.,  27.,  28.]],\n",
       "\n",
       "        [[115., 121.,  91.],\n",
       "         [123., 124.,  95.],\n",
       "         [129., 126.,  99.],\n",
       "         ...,\n",
       "         [115., 116.,  94.],\n",
       "         [ 66.,  65.,  59.],\n",
       "         [ 27.,  27.,  27.]],\n",
       "\n",
       "        [[116., 120.,  90.],\n",
       "         [121., 122.,  94.],\n",
       "         [129., 128., 101.],\n",
       "         ...,\n",
       "         [116., 115.,  94.],\n",
       "         [ 68.,  65.,  58.],\n",
       "         [ 27.,  26.,  26.]]]], dtype=float32)"
      ]
     },
     "execution_count": 9,
     "metadata": {},
     "output_type": "execute_result"
    }
   ],
   "source": [
    "Xr"
   ]
  },
  {
   "cell_type": "code",
   "execution_count": null,
   "metadata": {
    "colab": {
     "base_uri": "https://localhost:8080/",
     "height": 190
    },
    "id": "9fZymsAzvauB",
    "outputId": "2dfa5474-dfd7-4351-a040-1db8586e332a"
   },
   "outputs": [
    {
     "data": {
      "image/png": "[encoded data removed]",
      "text/plain": [
       "<Figure size 1000x500 with 5 Axes>"
      ]
     },
     "metadata": {},
     "output_type": "display_data"
    }
   ],
   "source": [
    "# Take some random examples, reshape to a 32x32 image and plot\n",
    "from random import randint\n",
    "fig, axes = plt.subplots(1, 5,  figsize=(10, 5))\n",
    "for i in range(5):\n",
    "    n = randint(0,len(Xr))\n",
    "    # The data is stored in a 3x32x32 format, so we need to transpose it\n",
    "    axes[i].imshow(Xr[n]/255)\n",
    "    axes[i].set_xlabel((cifar_classes[int(y[n])]))\n",
    "    axes[i].set_xticks(()), axes[i].set_yticks(())\n",
    "plt.show();"
   ]
  },
  {
   "cell_type": "markdown",
   "metadata": {
    "id": "wrF5VXwyvauJ"
   },
   "source": [
    "## Task 1: CNN based Classification\n",
    "* Split the data into 80% training and 20% validation sets\n",
    "* Normalize the data to [0,1]\n",
    "* Build a ConvNet with 3 convolutional layers interspersed with MaxPooling layers, and one dense layer.\n",
    "    * Use at least 32 3x3 filters in the first layer and ReLU activation.\n",
    "    * Otherwise, make rational design choices or experiment a bit to see what works.\n",
    "* You should at least get 60% accuracy.\n",
    "* For training, you can try 20-50 epochs, but feel free to explore this as well"
   ]
  },
  {
   "cell_type": "markdown",
   "metadata": {
    "id": "r_AwasrGSRIi"
   },
   "source": [
    " **Spliting  the data into 80% training and 20% validation **"
   ]
  },
  {
   "cell_type": "code",
   "execution_count": null,
   "metadata": {
    "colab": {
     "base_uri": "https://localhost:8080/"
    },
    "id": "SCyKx7_qSakg",
    "outputId": "e66ca6e3-bb41-45b9-bb11-a768981f0f20"
   },
   "outputs": [
    {
     "data": {
      "text/plain": [
       "(16000, 32, 32, 3)"
      ]
     },
     "execution_count": 39,
     "metadata": {},
     "output_type": "execute_result"
    }
   ],
   "source": [
    "from sklearn.model_selection import train_test_split\n",
    "\n",
    "# Split the data into 80% training and 20% validation sets\n",
    "X_train, X_val, y_train, y_val = train_test_split(Xr, y, test_size=0.2, random_state=42)\n",
    "X_train.shape"
   ]
  },
  {
   "cell_type": "code",
   "execution_count": null,
   "metadata": {
    "colab": {
     "base_uri": "https://localhost:8080/"
    },
    "id": "jUvNgmIUSJpr",
    "outputId": "9ae5f5d1-7156-4ff2-e1e3-8333683174b1"
   },
   "outputs": [
    {
     "data": {
      "text/plain": [
       "(16000,)"
      ]
     },
     "execution_count": 41,
     "metadata": {},
     "output_type": "execute_result"
    }
   ],
   "source": [
    "y_train.shape"
   ]
  },
  {
   "cell_type": "code",
   "execution_count": null,
   "metadata": {
    "id": "J-8MR4zCTE2q"
   },
   "outputs": [],
   "source": [
    "#normalizing the data\n",
    "X_train = X_train / 255.0\n",
    "X_val = X_val / 255.0"
   ]
  },
  {
   "cell_type": "code",
   "execution_count": null,
   "metadata": {
    "id": "Rh2JoygxTPkA"
   },
   "outputs": [],
   "source": [
    "# Build the ConvNet model\n",
    "model = tf.keras.models.Sequential([\n",
    "    tf.keras.layers.Conv2D(16, (3, 3), activation='relu', input_shape=(32, 32, 3)),\n",
    "    tf.keras.layers.MaxPooling2D((2, 2)),\n",
    "    tf.keras.layers.Conv2D(32, (3, 3), activation='relu'),\n",
    "    tf.keras.layers.MaxPooling2D((2, 2)),\n",
    "    tf.keras.layers.Conv2D(128, (3, 3), activation='relu'),\n",
    "    tf.keras.layers.MaxPooling2D((2, 2)),\n",
    "    tf.keras.layers.Flatten(),\n",
    "    tf.keras.layers.Dense(256, activation='relu'),\n",
    "    tf.keras.layers.Dense(10, activation='softmax')\n",
    "])"
   ]
  },
  {
   "cell_type": "code",
   "execution_count": null,
   "metadata": {
    "id": "uZpZrKtoTiSw"
   },
   "outputs": [],
   "source": [
    "# Compile the model\n",
    "model.compile(optimizer='adam',\n",
    "              loss=tf.keras.losses.SparseCategoricalCrossentropy(from_logits=True),\n",
    "              metrics=['accuracy'])"
   ]
  },
  {
   "cell_type": "code",
   "execution_count": null,
   "metadata": {
    "colab": {
     "base_uri": "https://localhost:8080/"
    },
    "id": "b3bQT1E9TqWf",
    "outputId": "8df9ec3c-b606-4fdf-d0ab-30b75f974399"
   },
   "outputs": [
    {
     "name": "stdout",
     "output_type": "stream",
     "text": [
      "Epoch 1/50\n"
     ]
    },
    {
     "name": "stderr",
     "output_type": "stream",
     "text": [
      "/usr/local/lib/python3.10/dist-packages/keras/backend.py:5612: UserWarning: \"`sparse_categorical_crossentropy` received `from_logits=True`, but the `output` argument was produced by a Softmax activation and thus does not represent logits. Was this intended?\n",
      "  output, from_logits = _get_logits(\n"
     ]
    },
    {
     "name": "stdout",
     "output_type": "stream",
     "text": [
      "500/500 [==============================] - 5s 5ms/step - loss: 1.7534 - accuracy: 0.3464 - val_loss: 1.5242 - val_accuracy: 0.4540\n",
      "Epoch 2/50\n",
      "500/500 [==============================] - 2s 4ms/step - loss: 1.3907 - accuracy: 0.4971 - val_loss: 1.4140 - val_accuracy: 0.4927\n",
      "Epoch 3/50\n",
      "500/500 [==============================] - 2s 4ms/step - loss: 1.2357 - accuracy: 0.5603 - val_loss: 1.3377 - val_accuracy: 0.5185\n",
      "Epoch 4/50\n",
      "500/500 [==============================] - 2s 4ms/step - loss: 1.1289 - accuracy: 0.5969 - val_loss: 1.2053 - val_accuracy: 0.5720\n",
      "Epoch 5/50\n",
      "500/500 [==============================] - 3s 7ms/step - loss: 1.0311 - accuracy: 0.6363 - val_loss: 1.2326 - val_accuracy: 0.5690\n",
      "Epoch 6/50\n",
      "500/500 [==============================] - 2s 4ms/step - loss: 0.9418 - accuracy: 0.6641 - val_loss: 1.1241 - val_accuracy: 0.6093\n",
      "Epoch 7/50\n",
      "500/500 [==============================] - 2s 4ms/step - loss: 0.8618 - accuracy: 0.6958 - val_loss: 1.1473 - val_accuracy: 0.6090\n",
      "Epoch 8/50\n",
      "500/500 [==============================] - 2s 4ms/step - loss: 0.7907 - accuracy: 0.7179 - val_loss: 1.1277 - val_accuracy: 0.6295\n",
      "Epoch 9/50\n",
      "500/500 [==============================] - 2s 4ms/step - loss: 0.7125 - accuracy: 0.7470 - val_loss: 1.1831 - val_accuracy: 0.6175\n",
      "Epoch 10/50\n",
      "500/500 [==============================] - 3s 5ms/step - loss: 0.6410 - accuracy: 0.7731 - val_loss: 1.1764 - val_accuracy: 0.6320\n",
      "Epoch 11/50\n",
      "500/500 [==============================] - 2s 5ms/step - loss: 0.5587 - accuracy: 0.8075 - val_loss: 1.2536 - val_accuracy: 0.6233\n",
      "Epoch 12/50\n",
      "500/500 [==============================] - 2s 4ms/step - loss: 0.4978 - accuracy: 0.8253 - val_loss: 1.3208 - val_accuracy: 0.6165\n",
      "Epoch 13/50\n",
      "500/500 [==============================] - 2s 4ms/step - loss: 0.4419 - accuracy: 0.8464 - val_loss: 1.3979 - val_accuracy: 0.6168\n",
      "Epoch 14/50\n",
      "500/500 [==============================] - 2s 4ms/step - loss: 0.3806 - accuracy: 0.8686 - val_loss: 1.4438 - val_accuracy: 0.6235\n",
      "Epoch 15/50\n",
      "500/500 [==============================] - 3s 5ms/step - loss: 0.3323 - accuracy: 0.8823 - val_loss: 1.5844 - val_accuracy: 0.5985\n",
      "Epoch 16/50\n",
      "500/500 [==============================] - 3s 5ms/step - loss: 0.2744 - accuracy: 0.9057 - val_loss: 1.6014 - val_accuracy: 0.6227\n",
      "Epoch 17/50\n",
      "500/500 [==============================] - 2s 5ms/step - loss: 0.2325 - accuracy: 0.9209 - val_loss: 1.8256 - val_accuracy: 0.6045\n",
      "Epoch 18/50\n",
      "500/500 [==============================] - 2s 4ms/step - loss: 0.2132 - accuracy: 0.9256 - val_loss: 1.8051 - val_accuracy: 0.6190\n",
      "Epoch 19/50\n",
      "500/500 [==============================] - 4s 8ms/step - loss: 0.1715 - accuracy: 0.9397 - val_loss: 2.0009 - val_accuracy: 0.6145\n",
      "Epoch 20/50\n",
      "500/500 [==============================] - 5s 10ms/step - loss: 0.1422 - accuracy: 0.9534 - val_loss: 2.0633 - val_accuracy: 0.6160\n",
      "Epoch 21/50\n",
      "500/500 [==============================] - 3s 7ms/step - loss: 0.1336 - accuracy: 0.9556 - val_loss: 2.1868 - val_accuracy: 0.6223\n",
      "Epoch 22/50\n",
      "500/500 [==============================] - 2s 4ms/step - loss: 0.1338 - accuracy: 0.9549 - val_loss: 2.1824 - val_accuracy: 0.6090\n",
      "Epoch 23/50\n",
      "500/500 [==============================] - 2s 5ms/step - loss: 0.1179 - accuracy: 0.9588 - val_loss: 2.3605 - val_accuracy: 0.6165\n",
      "Epoch 24/50\n",
      "500/500 [==============================] - 3s 5ms/step - loss: 0.1009 - accuracy: 0.9664 - val_loss: 2.5011 - val_accuracy: 0.6047\n",
      "Epoch 25/50\n",
      "500/500 [==============================] - 2s 5ms/step - loss: 0.1010 - accuracy: 0.9653 - val_loss: 2.5552 - val_accuracy: 0.6110\n",
      "Epoch 26/50\n",
      "500/500 [==============================] - 2s 4ms/step - loss: 0.0906 - accuracy: 0.9692 - val_loss: 2.6882 - val_accuracy: 0.6137\n",
      "Epoch 27/50\n",
      "500/500 [==============================] - 2s 4ms/step - loss: 0.1114 - accuracy: 0.9632 - val_loss: 2.8709 - val_accuracy: 0.5993\n",
      "Epoch 28/50\n",
      "500/500 [==============================] - 3s 6ms/step - loss: 0.0921 - accuracy: 0.9684 - val_loss: 2.6450 - val_accuracy: 0.6105\n",
      "Epoch 29/50\n",
      "500/500 [==============================] - 3s 6ms/step - loss: 0.0697 - accuracy: 0.9774 - val_loss: 2.8983 - val_accuracy: 0.6008\n",
      "Epoch 30/50\n",
      "500/500 [==============================] - 2s 5ms/step - loss: 0.0861 - accuracy: 0.9711 - val_loss: 3.1602 - val_accuracy: 0.5900\n",
      "Epoch 31/50\n",
      "500/500 [==============================] - 2s 5ms/step - loss: 0.0769 - accuracy: 0.9735 - val_loss: 2.9133 - val_accuracy: 0.5985\n",
      "Epoch 32/50\n",
      "500/500 [==============================] - 2s 4ms/step - loss: 0.0951 - accuracy: 0.9672 - val_loss: 3.0931 - val_accuracy: 0.6148\n",
      "Epoch 33/50\n",
      "500/500 [==============================] - 2s 4ms/step - loss: 0.0701 - accuracy: 0.9753 - val_loss: 3.1975 - val_accuracy: 0.6115\n",
      "Epoch 34/50\n",
      "500/500 [==============================] - 3s 6ms/step - loss: 0.0942 - accuracy: 0.9678 - val_loss: 3.0016 - val_accuracy: 0.6053\n",
      "Epoch 35/50\n",
      "500/500 [==============================] - 2s 5ms/step - loss: 0.0535 - accuracy: 0.9827 - val_loss: 3.1260 - val_accuracy: 0.6045\n",
      "Epoch 36/50\n",
      "500/500 [==============================] - 2s 5ms/step - loss: 0.0596 - accuracy: 0.9803 - val_loss: 3.1107 - val_accuracy: 0.6120\n",
      "Epoch 37/50\n",
      "500/500 [==============================] - 2s 4ms/step - loss: 0.0665 - accuracy: 0.9771 - val_loss: 3.4090 - val_accuracy: 0.6058\n",
      "Epoch 38/50\n",
      "500/500 [==============================] - 2s 4ms/step - loss: 0.0743 - accuracy: 0.9743 - val_loss: 3.2444 - val_accuracy: 0.6170\n",
      "Epoch 39/50\n",
      "500/500 [==============================] - 3s 5ms/step - loss: 0.0607 - accuracy: 0.9804 - val_loss: 3.3561 - val_accuracy: 0.5950\n",
      "Epoch 40/50\n",
      "500/500 [==============================] - 3s 5ms/step - loss: 0.0804 - accuracy: 0.9728 - val_loss: 3.3980 - val_accuracy: 0.5925\n",
      "Epoch 41/50\n",
      "500/500 [==============================] - 2s 5ms/step - loss: 0.0587 - accuracy: 0.9808 - val_loss: 3.3581 - val_accuracy: 0.6227\n",
      "Epoch 42/50\n",
      "500/500 [==============================] - 2s 5ms/step - loss: 0.0706 - accuracy: 0.9772 - val_loss: 3.4136 - val_accuracy: 0.6053\n",
      "Epoch 43/50\n",
      "500/500 [==============================] - 2s 4ms/step - loss: 0.0682 - accuracy: 0.9769 - val_loss: 3.4453 - val_accuracy: 0.6083\n",
      "Epoch 44/50\n",
      "500/500 [==============================] - 3s 5ms/step - loss: 0.0420 - accuracy: 0.9859 - val_loss: 3.6554 - val_accuracy: 0.6155\n",
      "Epoch 45/50\n",
      "500/500 [==============================] - 3s 5ms/step - loss: 0.0536 - accuracy: 0.9815 - val_loss: 4.1795 - val_accuracy: 0.5838\n",
      "Epoch 46/50\n",
      "500/500 [==============================] - 2s 4ms/step - loss: 0.0981 - accuracy: 0.9671 - val_loss: 3.5745 - val_accuracy: 0.6028\n",
      "Epoch 47/50\n",
      "500/500 [==============================] - 2s 5ms/step - loss: 0.0578 - accuracy: 0.9805 - val_loss: 3.5718 - val_accuracy: 0.6080\n",
      "Epoch 48/50\n",
      "500/500 [==============================] - 2s 5ms/step - loss: 0.0305 - accuracy: 0.9899 - val_loss: 3.7301 - val_accuracy: 0.6065\n",
      "Epoch 49/50\n",
      "500/500 [==============================] - 2s 5ms/step - loss: 0.0589 - accuracy: 0.9808 - val_loss: 3.7318 - val_accuracy: 0.6093\n",
      "Epoch 50/50\n",
      "500/500 [==============================] - 3s 6ms/step - loss: 0.0852 - accuracy: 0.9722 - val_loss: 3.6693 - val_accuracy: 0.6012\n",
      "125/125 [==============================] - 0s 2ms/step - loss: 3.6693 - accuracy: 0.6012\n"
     ]
    }
   ],
   "source": [
    "# Train the model\n",
    "history = model.fit(X_train, y_train, epochs=50, validation_data=(X_val, y_val))\n",
    "\n",
    "# Evaluate the model on the validation set\n",
    "val_loss, val_acc = model.evaluate(X_val, y_val)"
   ]
  },
  {
   "cell_type": "code",
   "execution_count": null,
   "metadata": {
    "colab": {
     "base_uri": "https://localhost:8080/"
    },
    "id": "lZ9KbKVtUzZ3",
    "outputId": "36969c78-1b81-4e56-db23-eabb3c47696d"
   },
   "outputs": [
    {
     "name": "stdout",
     "output_type": "stream",
     "text": [
      "dict_keys(['loss', 'accuracy', 'val_loss', 'val_accuracy'])\n"
     ]
    }
   ],
   "source": [
    "...\n",
    "# list all data in history\n",
    "print(history.history.keys())"
   ]
  },
  {
   "cell_type": "code",
   "execution_count": null,
   "metadata": {
    "colab": {
     "base_uri": "https://localhost:8080/",
     "height": 944
    },
    "id": "LqK4Kc8HU57G",
    "outputId": "89218284-7cc6-4b78-9e77-4dd2da5032ec"
   },
   "outputs": [
    {
     "name": "stdout",
     "output_type": "stream",
     "text": [
      "dict_keys(['loss', 'accuracy', 'val_loss', 'val_accuracy'])\n"
     ]
    },
    {
     "data": {
      "image/png": "[encoded data removed]",
      "text/plain": [
       "<Figure size 640x480 with 1 Axes>"
      ]
     },
     "metadata": {},
     "output_type": "display_data"
    },
    {
     "data": {
      "image/png": "[encoded data removed]",
      "text/plain": [
       "<Figure size 640x480 with 1 Axes>"
      ]
     },
     "metadata": {},
     "output_type": "display_data"
    }
   ],
   "source": [
    "print(history.history.keys())\n",
    "# summarize history for accuracy\n",
    "plt.plot(history.history['accuracy'])\n",
    "plt.plot(history.history['val_accuracy'])\n",
    "plt.title('model accuracy')\n",
    "plt.ylabel('accuracy')\n",
    "plt.xlabel('epoch')\n",
    "plt.legend(['train', 'test'], loc='upper left')\n",
    "plt.show()\n",
    "# summarize history for loss\n",
    "plt.plot(history.history['loss'])\n",
    "plt.plot(history.history['val_loss'])\n",
    "plt.title('model loss')\n",
    "plt.ylabel('loss')\n",
    "plt.xlabel('epoch')\n",
    "plt.legend(['train', 'test'], loc='upper left')\n",
    "plt.show()"
   ]
  },
  {
   "cell_type": "code",
   "execution_count": null,
   "metadata": {
    "colab": {
     "base_uri": "https://localhost:8080/"
    },
    "id": "oLkl-w5WT8x-",
    "outputId": "c7c9398d-f07a-424f-a222-a03f58ddef53"
   },
   "outputs": [
    {
     "name": "stdout",
     "output_type": "stream",
     "text": [
      "Validation Loss: 3.669343948364258\n",
      "Validation Accuracy: 60.12499928474426\n"
     ]
    }
   ],
   "source": [
    "print(\"Validation Loss:\", val_loss)\n",
    "print(\"Validation Accuracy:\", val_acc*100)"
   ]
  },
  {
   "cell_type": "code",
   "execution_count": null,
   "metadata": {
    "colab": {
     "base_uri": "https://localhost:8080/"
    },
    "id": "ucBmbwYuhnun",
    "outputId": "2868cd1b-8e28-4c4d-f17e-749568fb96a5"
   },
   "outputs": [
    {
     "name": "stdout",
     "output_type": "stream",
     "text": [
      "125/125 [==============================] - 0s 2ms/step\n",
      "Validation Accuracy: 48.55\n"
     ]
    }
   ],
   "source": [
    "# Get the model's predictions on the validation set\n",
    "y_val_pred = model.predict(X_val)\n",
    "y_val_pred_labels = np.argmax(y_val_pred, axis=1)\n",
    "\n",
    "# Calculate the accuracy by comparing the predicted labels with the true labels\n",
    "val_accuracy = np.mean(y_val_pred_labels == y_val) * 100\n",
    "\n",
    "# Print the validation accuracy\n",
    "print(\"Validation Accuracy:\", val_accuracy)"
   ]
  },
  {
   "cell_type": "markdown",
   "metadata": {
    "id": "Sl4q-KrSjmeE"
   },
   "source": [
    "## Task 2: HOG based Classification\n",
    "* Use the same data split as mentioned above and extract the HOG features from the training and testing split and classify the HOG features using SVM classifier.\n",
    "* Compare the accuracy with CNN features and explain which technique outperforms.\n",
    "\n"
   ]
  },
  {
   "cell_type": "code",
   "execution_count": null,
   "metadata": {
    "id": "oHr5yyoGT69m"
   },
   "outputs": [],
   "source": [
    "from sklearn.model_selection import train_test_split\n",
    "\n",
    "# Split the data into 80% training and 20% validation sets\n",
    "X_train, X_val, y_train, y_val = train_test_split(Xr, y, test_size=0.2, random_state=42)\n"
   ]
  },
  {
   "cell_type": "code",
   "execution_count": null,
   "metadata": {
    "colab": {
     "base_uri": "https://localhost:8080/"
    },
    "id": "fnZWgeseWz9S",
    "outputId": "bff3d184-488f-48a6-9c62-e6c13e03c850"
   },
   "outputs": [
    {
     "name": "stderr",
     "output_type": "stream",
     "text": [
      "<ipython-input-54-91c041c72d67>:6: FutureWarning: `multichannel` is a deprecated argument name for `hog`. It will be removed in version 1.0. Please use `channel_axis` instead.\n",
      "  features = hog(image, orientations=9, pixels_per_cell=(8, 8), cells_per_block=(2, 2), multichannel=True)\n"
     ]
    }
   ],
   "source": [
    "from skimage.feature import hog\n",
    "\n",
    "# Extract HOG features from the training set\n",
    "X_train_hog = []\n",
    "for image in X_train:\n",
    "    features = hog(image, orientations=9, pixels_per_cell=(8, 8), cells_per_block=(2, 2), multichannel=True)\n",
    "    X_train_hog.append(features)\n",
    "X_train_hog = np.array(X_train_hog)\n",
    "\n"
   ]
  },
  {
   "cell_type": "code",
   "execution_count": null,
   "metadata": {
    "colab": {
     "base_uri": "https://localhost:8080/"
    },
    "id": "jw0KkY9jWwzM",
    "outputId": "b60b2b9b-1203-410c-f12a-25a004b0468a"
   },
   "outputs": [
    {
     "name": "stderr",
     "output_type": "stream",
     "text": [
      "<ipython-input-55-53234980e333>:4: FutureWarning: `multichannel` is a deprecated argument name for `hog`. It will be removed in version 1.0. Please use `channel_axis` instead.\n",
      "  features = hog(image, orientations=9, pixels_per_cell=(8, 8), cells_per_block=(2, 2), multichannel=True)\n"
     ]
    }
   ],
   "source": [
    "# Extract HOG features from the validation set\n",
    "X_val_hog = []\n",
    "for image in X_val:\n",
    "    features = hog(image, orientations=9, pixels_per_cell=(8, 8), cells_per_block=(2, 2), multichannel=True)\n",
    "    X_val_hog.append(features)\n",
    "X_val_hog = np.array(X_val_hog)\n"
   ]
  },
  {
   "cell_type": "code",
   "execution_count": null,
   "metadata": {
    "colab": {
     "base_uri": "https://localhost:8080/"
    },
    "id": "MZBfsluBW4ot",
    "outputId": "886f3105-5132-4e2b-e959-9a4a411fc5a1"
   },
   "outputs": [
    {
     "name": "stdout",
     "output_type": "stream",
     "text": [
      "SVM Accuracy: 0.5995\n"
     ]
    }
   ],
   "source": [
    "from sklearn.svm import SVC\n",
    "\n",
    "# Initialize and train the SVM classifier\n",
    "svm_classifier = SVC()\n",
    "svm_classifier.fit(X_train_hog, y_train)\n",
    "accuracy_svm = svm_classifier.score(X_val_hog, y_val)\n",
    "print(\"SVM Accuracy:\", accuracy_svm)"
   ]
  },
  {
   "cell_type": "code",
   "execution_count": null,
   "metadata": {
    "colab": {
     "base_uri": "https://localhost:8080/",
     "height": 143
    },
    "id": "hF6bc908XM3p",
    "outputId": "ab4bb1ad-41cb-44e8-f38b-73b8c111bac8"
   },
   "outputs": [
    {
     "data": {
      "text/html": [
       "\n",
       "  <div id=\"df-ccc92291-e9c6-4620-a1f7-260f17ec24bd\">\n",
       "    <div class=\"colab-df-container\">\n",
       "      <div>\n",
       "<style scoped>\n",
       "    .dataframe tbody tr th:only-of-type {\n",
       "        vertical-align: middle;\n",
       "    }\n",
       "\n",
       "    .dataframe tbody tr th {\n",
       "        vertical-align: top;\n",
       "    }\n",
       "\n",
       "    .dataframe thead th {\n",
       "        text-align: right;\n",
       "    }\n",
       "</style>\n",
       "<table border=\"1\" class=\"dataframe\">\n",
       "  <thead>\n",
       "    <tr style=\"text-align: right;\">\n",
       "      <th></th>\n",
       "      <th>Accuracy Score</th>\n",
       "    </tr>\n",
       "    <tr>\n",
       "      <th>Model</th>\n",
       "      <th></th>\n",
       "    </tr>\n",
       "  </thead>\n",
       "  <tbody>\n",
       "    <tr>\n",
       "      <th>CNN</th>\n",
       "      <td>0.60125</td>\n",
       "    </tr>\n",
       "    <tr>\n",
       "      <th>SVM</th>\n",
       "      <td>0.59950</td>\n",
       "    </tr>\n",
       "  </tbody>\n",
       "</table>\n",
       "</div>\n",
       "      <button class=\"colab-df-convert\" onclick=\"convertToInteractive('df-ccc92291-e9c6-4620-a1f7-260f17ec24bd')\"\n",
       "              title=\"Convert this dataframe to an interactive table.\"\n",
       "              style=\"display:none;\">\n",
       "        \n",
       "  <svg xmlns=\"http://www.w3.org/2000/svg\" height=\"24px\"viewBox=\"0 0 24 24\"\n",
       "       width=\"24px\">\n",
       "    <path d=\"M0 0h24v24H0V0z\" fill=\"none\"/>\n",
       "    <path d=\"M18.56 5.44l.94 2.06.94-2.06 2.06-.94-2.06-.94-.94-2.06-.94 2.06-2.06.94zm-11 1L8.5 8.5l.94-2.06 2.06-.94-2.06-.94L8.5 2.5l-.94 2.06-2.06.94zm10 10l.94 2.06.94-2.06 2.06-.94-2.06-.94-.94-2.06-.94 2.06-2.06.94z\"/><path d=\"M17.41 7.96l-1.37-1.37c-.4-.4-.92-.59-1.43-.59-.52 0-1.04.2-1.43.59L10.3 9.45l-7.72 7.72c-.78.78-.78 2.05 0 2.83L4 21.41c.39.39.9.59 1.41.59.51 0 1.02-.2 1.41-.59l7.78-7.78 2.81-2.81c.8-.78.8-2.07 0-2.86zM5.41 20L4 18.59l7.72-7.72 1.47 1.35L5.41 20z\"/>\n",
       "  </svg>\n",
       "      </button>\n",
       "      \n",
       "  <style>\n",
       "    .colab-df-container {\n",
       "      display:flex;\n",
       "      flex-wrap:wrap;\n",
       "      gap: 12px;\n",
       "    }\n",
       "\n",
       "    .colab-df-convert {\n",
       "      background-color: #E8F0FE;\n",
       "      border: none;\n",
       "      border-radius: 50%;\n",
       "      cursor: pointer;\n",
       "      display: none;\n",
       "      fill: #1967D2;\n",
       "      height: 32px;\n",
       "      padding: 0 0 0 0;\n",
       "      width: 32px;\n",
       "    }\n",
       "\n",
       "    .colab-df-convert:hover {\n",
       "      background-color: #E2EBFA;\n",
       "      box-shadow: 0px 1px 2px rgba(60, 64, 67, 0.3), 0px 1px 3px 1px rgba(60, 64, 67, 0.15);\n",
       "      fill: #174EA6;\n",
       "    }\n",
       "\n",
       "    [theme=dark] .colab-df-convert {\n",
       "      background-color: #3B4455;\n",
       "      fill: #D2E3FC;\n",
       "    }\n",
       "\n",
       "    [theme=dark] .colab-df-convert:hover {\n",
       "      background-color: #434B5C;\n",
       "      box-shadow: 0px 1px 3px 1px rgba(0, 0, 0, 0.15);\n",
       "      filter: drop-shadow(0px 1px 2px rgba(0, 0, 0, 0.3));\n",
       "      fill: #FFFFFF;\n",
       "    }\n",
       "  </style>\n",
       "\n",
       "      <script>\n",
       "        const buttonEl =\n",
       "          document.querySelector('#df-ccc92291-e9c6-4620-a1f7-260f17ec24bd button.colab-df-convert');\n",
       "        buttonEl.style.display =\n",
       "          google.colab.kernel.accessAllowed ? 'block' : 'none';\n",
       "\n",
       "        async function convertToInteractive(key) {\n",
       "          const element = document.querySelector('#df-ccc92291-e9c6-4620-a1f7-260f17ec24bd');\n",
       "          const dataTable =\n",
       "            await google.colab.kernel.invokeFunction('convertToInteractive',\n",
       "                                                     [key], {});\n",
       "          if (!dataTable) return;\n",
       "\n",
       "          const docLinkHtml = 'Like what you see? Visit the ' +\n",
       "            '<a target=\"_blank\" href=https://colab.research.google.com/notebooks/data_table.ipynb>data table notebook</a>'\n",
       "            + ' to learn more about interactive tables.';\n",
       "          element.innerHTML = '';\n",
       "          dataTable['output_type'] = 'display_data';\n",
       "          await google.colab.output.renderOutput(dataTable, element);\n",
       "          const docLink = document.createElement('div');\n",
       "          docLink.innerHTML = docLinkHtml;\n",
       "          element.appendChild(docLink);\n",
       "        }\n",
       "      </script>\n",
       "    </div>\n",
       "  </div>\n",
       "  "
      ],
      "text/plain": [
       "       Accuracy Score\n",
       "Model                \n",
       "CNN           0.60125\n",
       "SVM           0.59950"
      ]
     },
     "execution_count": 59,
     "metadata": {},
     "output_type": "execute_result"
    }
   ],
   "source": [
    "results=pd.DataFrame({'Model':['CNN','SVM'],\n",
    "                     'Accuracy Score':[accuracy_cnn,accuracy_svm]})\n",
    "result_df=results.sort_values(by='Accuracy Score', ascending=False)\n",
    "result_df=result_df.set_index('Model')\n",
    "result_df"
   ]
  },
  {
   "cell_type": "code",
   "execution_count": null,
   "metadata": {
    "colab": {
     "base_uri": "https://localhost:8080/",
     "height": 564
    },
    "id": "aM-iPIfgaH-c",
    "outputId": "e4cdc033-e7d0-4bde-e237-9b8b65b8efee"
   },
   "outputs": [
    {
     "data": {
      "image/png": "[encoded data removed]",
      "text/plain": [
       "<Figure size 800x600 with 1 Axes>"
      ]
     },
     "metadata": {},
     "output_type": "display_data"
    }
   ],
   "source": [
    "import matplotlib.pyplot as plt\n",
    "import seaborn as sns\n",
    "\n",
    "# Create a list of method names and their corresponding accuracies\n",
    "methods = ['SVM (HOG)', 'CNN (CNN)']\n",
    "accuracies = [accuracy_svm, accuracy_cnn]\n",
    "\n",
    "# Create a bar plot to visualize the accuracies\n",
    "plt.figure(figsize=(8, 6))\n",
    "sns.barplot(x=methods, y=accuracies)\n",
    "plt.title('Accuracy Comparison: SVM vs CNN')\n",
    "plt.xlabel('Method')\n",
    "plt.ylabel('Accuracy')\n",
    "plt.ylim([0, 1])  # Set the y-axis limit from 0 to 1\n",
    "plt.show()\n"
   ]
  }
 ],
 "metadata": {
  "accelerator": "GPU",
  "anaconda-cloud": {},
  "colab": {
   "machine_shape": "hm",
   "provenance": []
  },
  "hide_input": false,
  "kernelspec": {
   "display_name": "Python 3 (ipykernel)",
   "language": "python",
   "name": "python3"
  },
  "language_info": {
   "codemirror_mode": {
    "name": "ipython",
    "version": 3
   },
   "file_extension": ".py",
   "mimetype": "text/x-python",
   "name": "python",
   "nbconvert_exporter": "python",
   "pygments_lexer": "ipython3",
   "version": "3.9.12"
  }
 },
 "nbformat": 4,
 "nbformat_minor": 1
}
